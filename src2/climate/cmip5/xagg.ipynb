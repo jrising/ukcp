{
 "cells": [
  {
   "cell_type": "code",
   "execution_count": null,
   "id": "b8b1df4b",
   "metadata": {},
   "outputs": [],
   "source": []
  },
  {
   "cell_type": "code",
   "execution_count": 2,
   "id": "fc0aeb3d",
   "metadata": {},
   "outputs": [],
   "source": [
    "#Loading package\n",
    "import xarray as xr\n",
    "import geopandas as gpd\n",
    "import xagg as xa"
   ]
  },
  {
   "cell_type": "code",
   "execution_count": 57,
   "id": "4472cea7",
   "metadata": {},
   "outputs": [],
   "source": [
    "sourcepath= \"/Users/ritikakhurana/Open Modeling Group Dropbox/COACCH/climate/cmip5/IPSL-CM5A-MR/rcp85/ts_Amon_IPSL-CM5A-MR_rcp85_r1i1p1_200601-210012.nc\""
   ]
  },
  {
   "cell_type": "code",
   "execution_count": 58,
   "id": "a6602007",
   "metadata": {},
   "outputs": [],
   "source": [
    "destbasepath = sourcepath.replace(\".nc\", \"-aggregated\")"
   ]
  },
  {
   "cell_type": "code",
   "execution_count": 59,
   "id": "49052950",
   "metadata": {},
   "outputs": [],
   "source": [
    "# Gridded data file (netcdf/climate data)\n",
    "ds = xr.open_dataset(sourcepath)"
   ]
  },
  {
   "cell_type": "code",
   "execution_count": 60,
   "id": "48dcab01",
   "metadata": {},
   "outputs": [],
   "source": [
    "# Shapefile\n",
    "gdf = gpd.read_file('/Users/ritikakhurana/Open Modeling Group Dropbox/UK Economic Risks/regions/nuts2-2013/nuts2-2013-wgs84.shp')"
   ]
  },
  {
   "cell_type": "code",
   "execution_count": 61,
   "id": "bbe926b1",
   "metadata": {},
   "outputs": [
    {
     "name": "stdout",
     "output_type": "stream",
     "text": [
      "creating polygons for each pixel...\n",
      "calculating overlaps between pixels and output polygons...\n",
      "success!\n",
      "adjusting grid... (this may happen because only a subset of pixels were used for aggregation for efficiency - i.e. [subset_bbox=True] in xa.pixel_overlaps())\n",
      "grid adjustment successful\n",
      "aggregating ts...\n",
      "all variables aggregated to polygons!\n"
     ]
    }
   ],
   "source": [
    "# Get overlap between pixels and polygons\n",
    "weightmap = xa.pixel_overlaps(ds,gdf)\n",
    "\n",
    "# Aggregate data in [ds] onto polygons\n",
    "aggregated = xa.aggregate(ds,weightmap)"
   ]
  },
  {
   "cell_type": "code",
   "execution_count": 62,
   "id": "594dd0ea",
   "metadata": {},
   "outputs": [
    {
     "name": "stdout",
     "output_type": "stream",
     "text": [
      "/Users/ritikakhurana/Open Modeling Group Dropbox/COACCH/climate/cmip5/IPSL-CM5A-MR/rcp85/ts_Amon_IPSL-CM5A-MR_rcp85_r1i1p1_200601-210012-aggregated.nc saved!\n"
     ]
    }
   ],
   "source": [
    "aggregated.to_netcdf(destbasepath + '.nc')"
   ]
  },
  {
   "cell_type": "code",
   "execution_count": 63,
   "id": "5a956ddc",
   "metadata": {},
   "outputs": [
    {
     "name": "stdout",
     "output_type": "stream",
     "text": [
      "/Users/ritikakhurana/Open Modeling Group Dropbox/COACCH/climate/cmip5/IPSL-CM5A-MR/rcp85/ts_Amon_IPSL-CM5A-MR_rcp85_r1i1p1_200601-210012-aggregated.csv saved!\n"
     ]
    }
   ],
   "source": [
    "aggregated.to_csv(destbasepath + '.csv')"
   ]
  },
  {
   "cell_type": "code",
   "execution_count": 35,
   "id": "60dbdfb1",
   "metadata": {},
   "outputs": [
    {
     "name": "stdout",
     "output_type": "stream",
     "text": [
      "/Users/ritikakhurana/Open Modeling Group Dropbox/COACCH/climate/cmip5/EC-Earth/rcp85/ts_Amon_EC-EARTH_rcp85_r7i1p1_200601-210012-aggregated.nc saved!\n"
     ]
    }
   ],
   "source": []
  },
  {
   "cell_type": "code",
   "execution_count": 12,
   "id": "63b3fbef",
   "metadata": {},
   "outputs": [],
   "source": [
    "cwd = os.getcwd()"
   ]
  },
  {
   "cell_type": "code",
   "execution_count": 13,
   "id": "ba7e1e95",
   "metadata": {},
   "outputs": [
    {
     "data": {
      "text/plain": [
       "'/Users/ritikakhurana/Open Modeling Group Dropbox/COACCH/climate'"
      ]
     },
     "execution_count": 13,
     "metadata": {},
     "output_type": "execute_result"
    }
   ],
   "source": [
    "cwd"
   ]
  },
  {
   "cell_type": "code",
   "execution_count": null,
   "id": "5424c022",
   "metadata": {},
   "outputs": [],
   "source": []
  }
 ],
 "metadata": {
  "kernelspec": {
   "display_name": "Python 3 (ipykernel)",
   "language": "python",
   "name": "python3"
  },
  "language_info": {
   "codemirror_mode": {
    "name": "ipython",
    "version": 3
   },
   "file_extension": ".py",
   "mimetype": "text/x-python",
   "name": "python",
   "nbconvert_exporter": "python",
   "pygments_lexer": "ipython3",
   "version": "3.8.13"
  }
 },
 "nbformat": 4,
 "nbformat_minor": 5
}
